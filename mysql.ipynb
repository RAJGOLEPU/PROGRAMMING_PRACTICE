{
 "cells": [
  {
   "cell_type": "code",
   "execution_count": 30,
   "id": "94cd882b",
   "metadata": {},
   "outputs": [
    {
     "name": "stdout",
     "output_type": "stream",
     "text": [
      "❌ Error: 2003 (HY000): Can't connect to MySQL server on 'localhost:3306' (111)\n"
     ]
    }
   ],
   "source": [
    "import mysql.connector\n",
    "from mysql.connector import Error\n",
    "\n",
    "try:\n",
    "    connection = mysql.connector.connect(\n",
    "        host='localhost',      \n",
    "        user='user',            \n",
    "        password='password',    \n",
    "        database='mydb',     \n",
    "        port=3306              \n",
    "    )\n",
    "\n",
    "    if connection.is_connected():\n",
    "        print(\"✅ Connected to MySQL\")\n",
    "        cursor = connection.cursor()\n",
    "        cursor.execute(\"SHOW DATABASES;\")\n",
    "        print(\"📁 Databases:\")\n",
    "        for db in cursor.fetchall():\n",
    "            print(\"   -\", db[0])\n",
    "\n",
    "except Error as err:\n",
    "    print(\"❌ Error:\", err)\n",
    "\n",
    "finally:\n",
    "    if 'connection' in locals() and connection.is_connected():\n",
    "        cursor.close()\n",
    "        connection.close()\n",
    "        print(\"🔌 Connection closed\")"
   ]
  },
  {
   "cell_type": "code",
   "execution_count": 29,
   "id": "42c98269",
   "metadata": {},
   "outputs": [
    {
     "name": "stdout",
     "output_type": "stream",
     "text": [
      "✅ Connected to MySQL\n",
      "📁 Tables in the database:\n",
      "   No tables found.\n",
      "🔌 MySQL connection closed\n"
     ]
    }
   ],
   "source": [
    "import mysql.connector\n",
    "from mysql.connector import Error\n",
    "\n",
    "try:\n",
    "    # Connect to MySQL container (using localhost for GitHub Codespaces)\n",
    "    connection = mysql.connector.connect(\n",
    "        host='localhost',       # Use localhost when running MySQL and Python in the same container\n",
    "        user='user',            # Your MySQL username\n",
    "        password='password',    # Your MySQL password\n",
    "        database='mydb',        # The database to use\n",
    "        port=3306               # MySQL default port\n",
    "    )\n",
    "\n",
    "    if connection.is_connected():\n",
    "        print(\"✅ Connected to MySQL\")\n",
    "        \n",
    "        # Create a cursor object to interact with the database\n",
    "        cursor = connection.cursor()\n",
    "        \n",
    "        # Execute the SQL query to show all tables\n",
    "        cursor.execute(\"SHOW TABLES;\")\n",
    "        \n",
    "        # Fetch and print all tables\n",
    "        tables = cursor.fetchall()\n",
    "        print(\"📁 Tables in the database:\")\n",
    "        \n",
    "        if tables:\n",
    "            for table in tables:\n",
    "                print(\"   -\", table[0])  # Print each table name\n",
    "        else:\n",
    "            print(\"   No tables found.\")\n",
    "            \n",
    "except Error as err:\n",
    "    print(\"❌ Error:\", err)\n",
    "\n",
    "finally:\n",
    "    if 'connection' in locals() and connection.is_connected():\n",
    "        cursor.close()\n",
    "        connection.close()\n",
    "        print(\"🔌 MySQL connection closed\")\n"
   ]
  }
 ],
 "metadata": {
  "kernelspec": {
   "display_name": "Python 3",
   "language": "python",
   "name": "python3"
  },
  "language_info": {
   "codemirror_mode": {
    "name": "ipython",
    "version": 3
   },
   "file_extension": ".py",
   "mimetype": "text/x-python",
   "name": "python",
   "nbconvert_exporter": "python",
   "pygments_lexer": "ipython3",
   "version": "3.12.1"
  }
 },
 "nbformat": 4,
 "nbformat_minor": 5
}
